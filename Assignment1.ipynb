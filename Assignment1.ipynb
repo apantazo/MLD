{
 "cells": [
  {
   "cell_type": "markdown",
   "metadata": {},
   "source": [
    "# This is Assignment 1\n",
    "\n",
    "### Below are the answers for Task 1"
   ]
  },
  {
   "cell_type": "markdown",
   "metadata": {},
   "source": [
    "1 Write a program which will find all such numbers which are divisible by 7 but are not a multiple of 5, between 2000 and 3200 (both included). The numbers obtained should be printed in a comma-separated sequence on a single line. \n",
    "\n"
   ]
  },
  {
   "cell_type": "code",
   "execution_count": null,
   "metadata": {},
   "outputs": [],
   "source": [
    "for number in range(2000,3201):\n",
    "    if number%7==0 and number%5!=0:\n",
    "        print(number, end=',')"
   ]
  },
  {
   "cell_type": "markdown",
   "metadata": {},
   "source": [
    "2 Write a Python program to accept the user's first and last name and then getting them printed in the the reverse order   with a space between first name and last name. \n"
   ]
  },
  {
   "cell_type": "code",
   "execution_count": null,
   "metadata": {},
   "outputs": [],
   "source": [
    "firstname=input(\"Give me your First Name please: \")\n",
    "lastname=input(\"Give me your Last Name please: \")\n",
    "\n",
    "print(lastname[::-1],'',firstname[::-1])"
   ]
  },
  {
   "cell_type": "markdown",
   "metadata": {},
   "source": [
    "3 Write a Python program to find the volume of a sphere with diameter 12 cm. \n",
    "   Formula: V=4/3 * π * r^3 "
   ]
  },
  {
   "cell_type": "code",
   "execution_count": null,
   "metadata": {},
   "outputs": [],
   "source": [
    "import numpy as np\n",
    "\n",
    "d=12\n",
    "def sphere_volume(r=d/2):\n",
    "    V=4/3*np.pi*r**3\n",
    "    return V\n",
    "sphere_volume()"
   ]
  },
  {
   "cell_type": "markdown",
   "metadata": {},
   "source": [
    "4 Write a program which accepts a sequence of comma-separated numbers from console and generate a list."
   ]
  },
  {
   "cell_type": "code",
   "execution_count": null,
   "metadata": {},
   "outputs": [],
   "source": [
    "numbers=input('Give me some comma-separated numbers: ')\n",
    "numbers=list(numbers)\n",
    "for char in numbers:\n",
    "    if char==',':\n",
    "        numbers.remove(char)\n",
    "print(numbers)"
   ]
  },
  {
   "cell_type": "markdown",
   "metadata": {},
   "source": [
    "5 Create the below pattern using nested for loop in Python. "
   ]
  },
  {
   "cell_type": "code",
   "execution_count": null,
   "metadata": {},
   "outputs": [],
   "source": [
    "for i in range(0,5):\n",
    "    print(i*'*')\n",
    "for i in range(5,0,-1):\n",
    "    print(i*'*')"
   ]
  },
  {
   "cell_type": "markdown",
   "metadata": {},
   "source": [
    "6 Write a Python program to reverse a word after accepting the input from the user. \n"
   ]
  },
  {
   "cell_type": "code",
   "execution_count": null,
   "metadata": {},
   "outputs": [],
   "source": [
    "myword=input(\"Give me a word to reverse: \")\n",
    "\n",
    "\n",
    "def reverse_word(word):\n",
    "    final_word=\"\"\n",
    "    for char in word:\n",
    "        final_word=char+final_word\n",
    "    return final_word\n",
    "\n",
    "reverse_word(myword)"
   ]
  },
  {
   "cell_type": "markdown",
   "metadata": {},
   "source": [
    "\n"
   ]
  },
  {
   "cell_type": "markdown",
   "metadata": {},
   "source": [
    "7 Write a Python Program to print the given string in the format specified in the sample output.\n",
    "\n",
    "   WE, THE PEOPLE OF INDIA, having solemnly resolved to constitute India into a\n",
    "   SOVEREIGN, SOCIALIST, SECULAR, DEMOCRATIC REPUBLIC and to secure to all\n",
    "   its citizens"
   ]
  },
  {
   "cell_type": "code",
   "execution_count": null,
   "metadata": {},
   "outputs": [],
   "source": [
    "print('WE, THE PEOPLE OF INDIA,\\n\\thaving solemnly resolved to constitute India into a\\n\\t\\t\\tSOVEREIGN, SOCIALIST, SECULAR, DEMOCRATIC REPUBLIC\\n\\t\\t\\tand to secure to all its citizens')"
   ]
  },
  {
   "cell_type": "code",
   "execution_count": null,
   "metadata": {},
   "outputs": [],
   "source": []
  }
 ],
 "metadata": {
  "kernelspec": {
   "display_name": "Python 3",
   "language": "python",
   "name": "python3"
  },
  "language_info": {
   "codemirror_mode": {
    "name": "ipython",
    "version": 3
   },
   "file_extension": ".py",
   "mimetype": "text/x-python",
   "name": "python",
   "nbconvert_exporter": "python",
   "pygments_lexer": "ipython3",
   "version": "3.7.3"
  }
 },
 "nbformat": 4,
 "nbformat_minor": 4
}
