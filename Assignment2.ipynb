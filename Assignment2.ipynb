{
 "cells": [
  {
   "cell_type": "markdown",
   "metadata": {},
   "source": [
    "# This is Assignment 2"
   ]
  },
  {
   "cell_type": "markdown",
   "metadata": {},
   "source": [
    "1 Create the below pattern using nested for loop in Python. \n",
    "\n",
    "    *\n",
    "    **\n",
    "    ***\n",
    "    ****\n",
    "    *****\n",
    "    ****\n",
    "    ***\n",
    "    **\n",
    "    *"
   ]
  },
  {
   "cell_type": "code",
   "execution_count": 1,
   "metadata": {},
   "outputs": [
    {
     "name": "stdout",
     "output_type": "stream",
     "text": [
      "* \n",
      "\n",
      "* * \n",
      "\n",
      "* * * \n",
      "\n",
      "* * * * \n",
      "\n",
      "* * * * * \n",
      "\n",
      "* * * * \n",
      "\n",
      "* * * \n",
      "\n",
      "* * \n",
      "\n",
      "* \n",
      "\n"
     ]
    }
   ],
   "source": [
    "for i in range(0,9):\n",
    "    if(i <= 4):\n",
    "        for j in range(0,i+1):\n",
    "            print(\"*\", end=\" \")\n",
    "        print(\"\\n\")\n",
    "    else:\n",
    "        for j in range(i,9):\n",
    "            print(\"*\", end=\" \")\n",
    "        print(\"\\n\")"
   ]
  },
  {
   "cell_type": "markdown",
   "metadata": {},
   "source": [
    "2 Write a Python program to reverse a word after accepting the input from the user. "
   ]
  },
  {
   "cell_type": "code",
   "execution_count": null,
   "metadata": {},
   "outputs": [],
   "source": [
    "myword=input(\"Give me a word to reverse: \")\n",
    "\n",
    "\n",
    "def reverse_word(word):\n",
    "    final_word=\"\"\n",
    "    for char in word:\n",
    "        final_word=char+final_word\n",
    "    return final_word\n",
    "\n",
    "reverse_word(myword)"
   ]
  }
 ],
 "metadata": {
  "kernelspec": {
   "display_name": "Python 3",
   "language": "python",
   "name": "python3"
  },
  "language_info": {
   "codemirror_mode": {
    "name": "ipython",
    "version": 3
   },
   "file_extension": ".py",
   "mimetype": "text/x-python",
   "name": "python",
   "nbconvert_exporter": "python",
   "pygments_lexer": "ipython3",
   "version": "3.7.3"
  }
 },
 "nbformat": 4,
 "nbformat_minor": 4
}
