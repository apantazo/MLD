{
 "cells": [
  {
   "cell_type": "markdown",
   "metadata": {},
   "source": [
    "# This is Assignment 3\n",
    "<hr>"
   ]
  },
  {
   "cell_type": "markdown",
   "metadata": {},
   "source": [
    "1.1 Write a Python Program to implement your own myreduce() function which works exactly\n",
    "like Python's built-in function reduce()"
   ]
  },
  {
   "cell_type": "code",
   "execution_count": null,
   "metadata": {},
   "outputs": [],
   "source": [
    "def myreduce(anyfunc, seq):\n",
    "    result = seq[0] \n",
    "    for item in seq[1:]:\n",
    "        result = anyfunc(result, item)\n",
    "\n",
    "    return result\n",
    "\n",
    "\n",
    "def maximum(x,y):\n",
    "    if x>y:\n",
    "        return x\n",
    "    else:\n",
    "        return y\n",
    "\n",
    "test_list=[1,3,6,7,8,9]\n",
    "print('The maximum number of test_list is {}'.format(myreduce(maximum, test_list)))"
   ]
  },
  {
   "cell_type": "markdown",
   "metadata": {},
   "source": [
    "1.2 Write a Python program to implement your own myfilter() function which works exactly\n",
    "like Python's built-in function filter()"
   ]
  },
  {
   "cell_type": "code",
   "execution_count": null,
   "metadata": {},
   "outputs": [],
   "source": [
    "def myfilter(anyfunc, seq):\n",
    "    result = []\n",
    "    for item in seq:\n",
    "        if anyfunc(item):\n",
    "            result.append(item)            \n",
    "    return result\n",
    "\n",
    "def iseven(x):\n",
    "    if x%2==0: \n",
    "        return True \n",
    "    return False\n",
    "\n",
    "numbers_list=[0,1,2,3,4,5,6,7,8,9]\n",
    "print(\"Filter even numbers of numbers_list ---> {}\".format(myfilter(iseven,numbers)))"
   ]
  },
  {
   "cell_type": "markdown",
   "metadata": {},
   "source": [
    "2 Implement List comprehensions to produce the following lists.\n",
    "Write List comprehensions to produce the following Lists\n",
    "<br>\n",
    "<br>\n",
    "['x', 'xx', 'xxx', 'xxxx', 'y', 'yy', 'yyy', 'yyyy', 'z', 'zz', 'zzz', 'zzzz']\n",
    "<br>\n",
    "['x', 'y', 'z', 'xx', 'yy', 'zz', 'xxx', 'yyy', 'zzz', 'xxxx', 'yyyy', 'zzzz']\n",
    "<br>\n",
    "[[2], [3], [4], [3], [4], [5], [4], [5], [6]] <br>[[2, 3, 4, 5], [3, 4, 5, 6],\n",
    "[4, 5, 6, 7], [5, 6, 7, 8]]\n",
    "<br>\n",
    "[(1, 1), (2, 1), (3, 1), (1, 2), (2, 2), (3, 2), (1, 3), (2, 3), (3, 3)]"
   ]
  },
  {
   "cell_type": "code",
   "execution_count": null,
   "metadata": {},
   "outputs": [],
   "source": [
    "mylist=['x','y','z']\n",
    "\n",
    "first_list=[char*num for char in mylist for num in range(1,5)]\n",
    "print(first_list)\n",
    "\n",
    "second_list=[char*num for num in range(1,5) for char in mylist]\n",
    "print(second_list)\n",
    "\n",
    "input_list=[2,3,4]\n",
    "third_list=[[char+num] for char in input_list for num in range(0,3)]\n",
    "print(third_list)\n",
    "\n",
    "input_list2=[2,3,4,5]\n",
    "fourth_list=[[char+num for char in input_list2] for num in range(0,4)]\n",
    "print(fourth_list)\n",
    "\n",
    "input_list3=[1,2,3]\n",
    "fifth_list = [ (b,a) for a in input_list3 for b in input_list3]\n",
    "print(fifth_list)"
   ]
  }
 ],
 "metadata": {
  "kernelspec": {
   "display_name": "Python 3",
   "language": "python",
   "name": "python3"
  },
  "language_info": {
   "codemirror_mode": {
    "name": "ipython",
    "version": 3
   },
   "file_extension": ".py",
   "mimetype": "text/x-python",
   "name": "python",
   "nbconvert_exporter": "python",
   "pygments_lexer": "ipython3",
   "version": "3.7.3"
  }
 },
 "nbformat": 4,
 "nbformat_minor": 4
}
